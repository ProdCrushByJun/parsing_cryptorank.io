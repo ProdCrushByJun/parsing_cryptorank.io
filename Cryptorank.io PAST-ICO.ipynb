{
 "cells": [
  {
   "cell_type": "code",
   "execution_count": 1,
   "metadata": {},
   "outputs": [
    {
     "data": {
      "text/plain": [
       "'C:\\\\Anaconda\\\\lib\\\\site-packages\\\\chromedriver_autoinstaller\\\\102\\\\chromedriver.exe'"
      ]
     },
     "execution_count": 1,
     "metadata": {},
     "output_type": "execute_result"
    }
   ],
   "source": [
    "import requests\n",
    "import time\n",
    "from bs4 import BeautifulSoup as BS\n",
    "from time import sleep\n",
    "import pandas as pd\n",
    "#from urllib.request import Request, urlopen\n",
    "import urllib.request\n",
    "\n",
    "\n",
    "from selenium import webdriver    \n",
    "import chromedriver_autoinstaller\n",
    "from selenium.webdriver.chrome.service import Service\n",
    "from selenium.webdriver.common.by import By\n",
    "chromedriver_autoinstaller.install()"
   ]
  },
  {
   "cell_type": "code",
   "execution_count": 72,
   "metadata": {},
   "outputs": [
    {
     "name": "stdout",
     "output_type": "stream",
     "text": [
      "35\n"
     ]
    }
   ],
   "source": [
    "#Pages count\n",
    "url = \"https://cryptorank.io/ico\"\n",
    "response = requests.get(url)\n",
    "soup = BS(response.text,'lxml')\n",
    "pages_count = soup.find('div',class_='ui mini pagination data-table-paginator__CustomMenu-sc-17wvpge-0 hlUMhJ data-table__bottom-pagination menu')\n",
    "pages_count = int(pages_count.text.split(\"...\")[1].split('View')[0])\n",
    "print(pages_count)"
   ]
  },
  {
   "cell_type": "code",
   "execution_count": 81,
   "metadata": {},
   "outputs": [],
   "source": [
    "#Парсим все странички\n",
    "list_cards_url=[]\n",
    "driver = webdriver.Chrome(service=Service())\n",
    "exchange_link = \"https://cryptorank.io/ico\"\n",
    "driver.get(exchange_link)\n",
    "for page in range(pages_count-1):\n",
    "        page_data = driver.page_source\n",
    "        soup = BS(page_data,'lxml')\n",
    "        data = soup.find_all('td',class_='left aligned nametd')\n",
    "        for i in data:\n",
    "            card_url = 'https://cryptorank.io' + i.find('a').get(\"href\")\n",
    "            list_cards_url.append(card_url)\n",
    "            #print(card_url)\n",
    "        driver.find_element(By.XPATH,\"//div[@class='ui mini pagination data-table-paginator__CustomMenu-sc-17wvpge-0 hlUMhJ data-table__bottom-pagination menu']//a[@class='icon item chevron']\").click()\n",
    "#driver.find_element(By.XPATH,\"//div[@class='ui mini pagination data-table-paginator__CustomMenu-sc-17wvpge-0 hlUMhJ data-table__bottom-pagination menu']//a[@class='icon item chevron']\").click()\n",
    "#driver.find_element(By.XPATH,\"//div[@class='ui mini pagination data-table-paginator__CustomMenu-sc-17wvpge-0 hlUMhJ data-table__bottom-pagination menu']//a[@class='icon item chevron']\").click()"
   ]
  },
  {
   "cell_type": "code",
   "execution_count": 77,
   "metadata": {},
   "outputs": [
    {
     "data": {
      "text/plain": [
       "2075"
      ]
     },
     "execution_count": 77,
     "metadata": {},
     "output_type": "execute_result"
    }
   ],
   "source": [
    "#Убираем дубликаты из списка ссылок\n",
    "len(list_cards_url)\n",
    "list_cards_url = list(dict.fromkeys(list_cards_url))\n",
    "len(list_cards_url)"
   ]
  },
  {
   "cell_type": "code",
   "execution_count": 82,
   "metadata": {},
   "outputs": [],
   "source": [
    "names = []\n",
    "urls = []\n",
    "for card_url in list_cards_url:\n",
    "    response2 = requests.get(card_url)\n",
    "    soup = BS(response2.text,'lxml')\n",
    "    data2 = soup.find_all('div',class_='styled__AdditionalLinks-sc-1jokj15-0 bZGDsO')\n",
    "    data3 = soup.find_all('div',class_='styled__CoinMainInfoContainer-sc-1iy13vh-0 jmUZpv')\n",
    "    for x in data2:\n",
    "        u = x.find('a').get(\"href\")\n",
    "    for d in data3:\n",
    "        name = d.find('h2',class_='coin-info__name').text\n",
    "        #print(name + ' ' + u)\n",
    "        names.append(name)\n",
    "        urls.append(u)"
   ]
  },
  {
   "cell_type": "code",
   "execution_count": 80,
   "metadata": {},
   "outputs": [
    {
     "data": {
      "text/html": [
       "<div>\n",
       "<style scoped>\n",
       "    .dataframe tbody tr th:only-of-type {\n",
       "        vertical-align: middle;\n",
       "    }\n",
       "\n",
       "    .dataframe tbody tr th {\n",
       "        vertical-align: top;\n",
       "    }\n",
       "\n",
       "    .dataframe thead th {\n",
       "        text-align: right;\n",
       "    }\n",
       "</style>\n",
       "<table border=\"1\" class=\"dataframe\">\n",
       "  <thead>\n",
       "    <tr style=\"text-align: right;\">\n",
       "      <th></th>\n",
       "      <th>Project</th>\n",
       "      <th>URL</th>\n",
       "    </tr>\n",
       "  </thead>\n",
       "  <tbody>\n",
       "    <tr>\n",
       "      <td>0</td>\n",
       "      <td>WeBuy</td>\n",
       "      <td>https://webuynft.xyz/</td>\n",
       "    </tr>\n",
       "    <tr>\n",
       "      <td>1</td>\n",
       "      <td>Remnant Labs</td>\n",
       "      <td>https://remnant.gg/</td>\n",
       "    </tr>\n",
       "    <tr>\n",
       "      <td>2</td>\n",
       "      <td>Goons of Balatroon</td>\n",
       "      <td>https://goonsofbalatroon.com/</td>\n",
       "    </tr>\n",
       "    <tr>\n",
       "      <td>3</td>\n",
       "      <td>GAGARIN</td>\n",
       "      <td>https://gagarin.world/</td>\n",
       "    </tr>\n",
       "    <tr>\n",
       "      <td>4</td>\n",
       "      <td>SeatlabNFT</td>\n",
       "      <td>https://seatlabnft.com?utm_source=cryptorank&amp;u...</td>\n",
       "    </tr>\n",
       "    <tr>\n",
       "      <td>...</td>\n",
       "      <td>...</td>\n",
       "      <td>...</td>\n",
       "    </tr>\n",
       "    <tr>\n",
       "      <td>2063</td>\n",
       "      <td>AutoMatic</td>\n",
       "      <td>https://www.automatic.network/</td>\n",
       "    </tr>\n",
       "    <tr>\n",
       "      <td>2064</td>\n",
       "      <td>MarhabaDeFi</td>\n",
       "      <td>https://marhabadefi.com/</td>\n",
       "    </tr>\n",
       "    <tr>\n",
       "      <td>2065</td>\n",
       "      <td>HeroFi</td>\n",
       "      <td>https://herofi.io/</td>\n",
       "    </tr>\n",
       "    <tr>\n",
       "      <td>2066</td>\n",
       "      <td>Universal Reward Protocol</td>\n",
       "      <td>https://rewardprotocol.com/</td>\n",
       "    </tr>\n",
       "    <tr>\n",
       "      <td>2067</td>\n",
       "      <td>PlayPad</td>\n",
       "      <td>https://playpad.app/</td>\n",
       "    </tr>\n",
       "  </tbody>\n",
       "</table>\n",
       "<p>2068 rows × 2 columns</p>\n",
       "</div>"
      ],
      "text/plain": [
       "                        Project  \\\n",
       "0                         WeBuy   \n",
       "1                  Remnant Labs   \n",
       "2            Goons of Balatroon   \n",
       "3                       GAGARIN   \n",
       "4                    SeatlabNFT   \n",
       "...                         ...   \n",
       "2063                  AutoMatic   \n",
       "2064                MarhabaDeFi   \n",
       "2065                     HeroFi   \n",
       "2066  Universal Reward Protocol   \n",
       "2067                    PlayPad   \n",
       "\n",
       "                                                    URL  \n",
       "0                                 https://webuynft.xyz/  \n",
       "1                                   https://remnant.gg/  \n",
       "2                         https://goonsofbalatroon.com/  \n",
       "3                                https://gagarin.world/  \n",
       "4     https://seatlabnft.com?utm_source=cryptorank&u...  \n",
       "...                                                 ...  \n",
       "2063                     https://www.automatic.network/  \n",
       "2064                           https://marhabadefi.com/  \n",
       "2065                                 https://herofi.io/  \n",
       "2066                        https://rewardprotocol.com/  \n",
       "2067                               https://playpad.app/  \n",
       "\n",
       "[2068 rows x 2 columns]"
      ]
     },
     "execution_count": 80,
     "metadata": {},
     "output_type": "execute_result"
    }
   ],
   "source": [
    "df = pd.DataFrame(list(zip(names, urls)),columns = ['Project', 'URL'])\n",
    "df.to_csv('cryptorank.io - past-ico - ' + time.strftime(\"%d-%m-%Y\"), sep='\\t',index=False)\n",
    "df"
   ]
  },
  {
   "cell_type": "code",
   "execution_count": null,
   "metadata": {},
   "outputs": [],
   "source": []
  }
 ],
 "metadata": {
  "kernelspec": {
   "display_name": "Python 3",
   "language": "python",
   "name": "python3"
  },
  "language_info": {
   "codemirror_mode": {
    "name": "ipython",
    "version": 3
   },
   "file_extension": ".py",
   "mimetype": "text/x-python",
   "name": "python",
   "nbconvert_exporter": "python",
   "pygments_lexer": "ipython3",
   "version": "3.7.4"
  }
 },
 "nbformat": 4,
 "nbformat_minor": 2
}

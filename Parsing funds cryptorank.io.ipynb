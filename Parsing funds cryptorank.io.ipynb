{
 "cells": [
  {
   "cell_type": "code",
   "execution_count": 1,
   "metadata": {},
   "outputs": [
    {
     "data": {
      "text/plain": [
       "'C:\\\\Anaconda\\\\lib\\\\site-packages\\\\chromedriver_autoinstaller\\\\103\\\\chromedriver.exe'"
      ]
     },
     "execution_count": 1,
     "metadata": {},
     "output_type": "execute_result"
    }
   ],
   "source": [
    "import requests\n",
    "import time\n",
    "from bs4 import BeautifulSoup as BS\n",
    "from time import sleep\n",
    "import pandas as pd\n",
    "#from urllib.request import Request, urlopen\n",
    "import urllib.request\n",
    "\n",
    "\n",
    "from selenium import webdriver    \n",
    "import chromedriver_autoinstaller\n",
    "from selenium.webdriver.chrome.service import Service\n",
    "from selenium.webdriver.common.by import By\n",
    "chromedriver_autoinstaller.install()"
   ]
  },
  {
   "cell_type": "code",
   "execution_count": 2,
   "metadata": {},
   "outputs": [
    {
     "name": "stderr",
     "output_type": "stream",
     "text": [
      "C:\\Anaconda\\lib\\site-packages\\ipykernel_launcher.py:8: DeprecationWarning: use options instead of chrome_options\n",
      "  \n"
     ]
    }
   ],
   "source": [
    "options = webdriver.ChromeOptions()\n",
    "options.add_argument(\"--start-maximized\")\n",
    "\n",
    "driver = webdriver.Chrome(service=Service(),chrome_options=options)\n",
    "exchange_link = \"https://cryptorank.io/funds\" # could easily be changed for previous ico with this link\n",
    "driver.get(exchange_link)\n",
    "driver.find_element(By.XPATH, \"//button[normalize-space()='View All']\").click()\n",
    "#driver.find_element(By.XPATH, \"//button[@class='styled__ButtonStyled-sc-1mte4d8-1 isxjWV styled__OptionsItem-sc-1oanmmb-1 lewfYb']//*[name()='svg']\").click()"
   ]
  },
  {
   "cell_type": "code",
   "execution_count": null,
   "metadata": {},
   "outputs": [],
   "source": [
    "# driver.find_element(By.XPATH, \"//button[@class='styled__ButtonStyled-sc-1mte4d8-1 isxjWV styled__OptionsItem-sc-1oanmmb-1 lewfYb']//*[name()='svg']\").click()\n",
    "# driver.find_element(By.XPATH, \"//button[normalize-space()='View All']\").click()\n",
    "# driver.find_element(By.XPATH,\"//div[@class='ui mini pagination data-table-paginator__CustomMenu-sc-17wvpge-0 hlUMhJ data-table__top-pagination menu']//a[@class='item'][normalize-space()='View All']\").click()\n",
    "# ico_links = driver.find_elements(By.XPATH,\"//td[@class='left aligned nametd']\")\n",
    "# page_data = driver.page_source\n",
    "# soup = BS(page_data,'lxml')\n",
    "# data = soup.find_all('td',class_='left aligned nametd')\n",
    "# for i in data:\n",
    "#     card_url = 'https://cryptorank.io' + i.find('a').get(\"href\")\n",
    "#     list_cards_url.append(card_url)\n",
    "    \n",
    "# for card_url in list_cards_url:\n",
    "#     response2 = requests.get(card_url)\n",
    "#     soup = BS(response2.text,'lxml')\n",
    "#     data2 = soup.find_all('div',class_='styled__AdditionalLinks-sc-1jokj15-0 bZGDsO')\n",
    "#     data3 = soup.find_all('div',class_='styled__CoinMainInfoContainer-sc-1iy13vh-0 jmUZpv')\n",
    "#     for x in data2:\n",
    "#         u = x.find('a').get(\"href\")\n",
    "#     for d in data3:\n",
    "#         name = d.find('h2',class_='coin-info__name').text\n",
    "#         print(name + ' ' + u)\n",
    "#         names.append(name)\n",
    "#         urls.append(u)"
   ]
  },
  {
   "cell_type": "code",
   "execution_count": 25,
   "metadata": {},
   "outputs": [],
   "source": [
    "list_funds = []\n",
    "page_data = driver.page_source\n",
    "soup = BS(page_data,'lxml')\n",
    "data = soup.find_all('tr',class_=\"styled__StyledTableRow-sc-1oam7fn-5 ftyUCH\")\n",
    "for i in data:\n",
    "     fund = 'https://cryptorank.io' + i.find('a').get(\"href\")\n",
    "     list_funds.append(fund)"
   ]
  },
  {
   "cell_type": "code",
   "execution_count": 51,
   "metadata": {},
   "outputs": [],
   "source": [
    "names = []\n",
    "urls = []\n",
    "for fund in list_funds:\n",
    "    response2 = requests.get(fund)\n",
    "    soup = BS(response2.text,'lxml')\n",
    "    site = soup.find_all('div',class_='styled__AdditionalLinks-sc-1bzr9ar-0 bdHYjm')\n",
    "    for i in site:\n",
    "        url_and_twitter = [x['href'] for x in i.find_all('a', href=True)]\n",
    "        name = soup.find('h1', {'class' : 'styled__Name-sc-mx2ek5-3 dfZSZi'}).text\n",
    "        urls.append(url_and_twitter)\n",
    "        names.append(name)\n",
    "        #print(name)"
   ]
  },
  {
   "cell_type": "code",
   "execution_count": 54,
   "metadata": {},
   "outputs": [],
   "source": [
    "df = pd.DataFrame(list(zip(names, urls)),columns = ['Fund', 'URLs'])\n",
    "df.to_csv('cryptorank.io - funds - ' + time.strftime(\"%d-%m-%Y\"), sep='\\t',index=False)\n",
    "#df"
   ]
  },
  {
   "cell_type": "code",
   "execution_count": null,
   "metadata": {},
   "outputs": [],
   "source": []
  },
  {
   "cell_type": "code",
   "execution_count": null,
   "metadata": {},
   "outputs": [],
   "source": []
  },
  {
   "cell_type": "code",
   "execution_count": null,
   "metadata": {},
   "outputs": [],
   "source": []
  },
  {
   "cell_type": "code",
   "execution_count": null,
   "metadata": {},
   "outputs": [],
   "source": []
  }
 ],
 "metadata": {
  "kernelspec": {
   "display_name": "Python 3",
   "language": "python",
   "name": "python3"
  },
  "language_info": {
   "codemirror_mode": {
    "name": "ipython",
    "version": 3
   },
   "file_extension": ".py",
   "mimetype": "text/x-python",
   "name": "python",
   "nbconvert_exporter": "python",
   "pygments_lexer": "ipython3",
   "version": "3.7.4"
  }
 },
 "nbformat": 4,
 "nbformat_minor": 5
}
